{
 "cells": [
  {
   "cell_type": "code",
   "execution_count": 1,
   "metadata": {},
   "outputs": [],
   "source": [
    "from mesa import Agent, Model\n",
    "from mesa.time import StagedActivation\n",
    "from mesa.datacollection import DataCollector\n",
    "from mesa.space import NetworkGrid\n",
    "from mesa.batchrunner import BatchRunner\n",
    "from sklearn.neighbors import KernelDensity\n",
    "\n",
    "import numpy as np\n",
    "import pandas as pd\n",
    "import itertools\n",
    "\n",
    "import matplotlib.pyplot as plt\n",
    "import matplotlib.mlab as mlab\n",
    "import random"
   ]
  },
  {
   "cell_type": "markdown",
   "metadata": {},
   "source": [
    "# Age Distribution\n",
    "\n",
    "Mortality rates are taken from https://www.abs.gov.au/statistics/people/population/life-tables/latest-release\n",
    "Table 1: Life tables, states, territories and Australia - 2017-2019\n",
    "\n",
    "initial age distribution is taken from https://www.abs.gov.au/AUSSTATS/abs@.nsf/DetailsPage/3101.0Jun%202019?OpenDocument  Population by Age and Sex Tables "
   ]
  },
  {
   "cell_type": "code",
   "execution_count": 4,
   "metadata": {},
   "outputs": [],
   "source": [
    "def generate_age_density():\n",
    "    #agedist has two columns: \"AgeGroup\" and \"Prop\"\n",
    "    #uses kernel density\n",
    "    kernelpopsize=3000\n",
    "    agedist=pd.read_csv('Data/AgeDistribution.csv')\n",
    "    agelist=list(range(2,87,5))+[90]\n",
    "    proplist=list(agedist[\"Prop\"].to_numpy())\n",
    "    num_in_groups= [element * kernelpopsize for element in proplist]\n",
    "    df_freq=np.repeat(agelist, num_in_groups, axis=0)\n",
    "    df_freq=[[element] for element in df_freq]\n",
    "\n",
    "    # Do kernel density estimation\n",
    "    #x = np.linspace(0, 100, 1000)[:, np.newaxis]\n",
    "\n",
    "    kd = KernelDensity(kernel='gaussian', bandwidth=5).fit(df_freq)\n",
    "    return kd\n",
    "\n",
    "\n",
    "kd=generate_age_density()\n",
    "#assign death rates\n",
    "deathrates=pd.read_csv('Data/deathrates.csv')\n",
    "#timediff=1\n",
    "#display([x for x in deathrates['death_rate'][:-1]])\n",
    "deathrates=np.array([x for x in deathrates['death_rate'][:-1]])\n",
    "#display(deathrates[101])"
   ]
  },
  {
   "cell_type": "code",
   "execution_count": null,
   "metadata": {},
   "outputs": [],
   "source": [
    "def sample_ages(popsize,kd, plot=False):\n",
    "    while True:\n",
    "        #sample from density\n",
    "        generated_ages=kd.sample(round(popsize*1.5)) #,random_state=0)\n",
    "        generated_ages=[round(x[0]) for x in generated_ages]\n",
    "        myages=[x for x in generated_ages if (x > 0 and x<=100)  ]\n",
    "        if len(myages)>=popsize:\n",
    "            break\n",
    "    myages=random.sample(myages, popsize)   \n",
    "    if(plot):\n",
    "        plt.hist(myages,alpha=0.5)\n",
    "    return myages"
   ]
  },
  {
   "cell_type": "code",
   "execution_count": null,
   "metadata": {},
   "outputs": [],
   "source": []
  },
  {
   "cell_type": "code",
   "execution_count": null,
   "metadata": {},
   "outputs": [],
   "source": []
  }
 ],
 "metadata": {
  "kernelspec": {
   "display_name": "Python 3",
   "language": "python",
   "name": "python3"
  },
  "language_info": {
   "codemirror_mode": {
    "name": "ipython",
    "version": 3
   },
   "file_extension": ".py",
   "mimetype": "text/x-python",
   "name": "python",
   "nbconvert_exporter": "python",
   "pygments_lexer": "ipython3",
   "version": "3.7.6"
  }
 },
 "nbformat": 4,
 "nbformat_minor": 4
}
